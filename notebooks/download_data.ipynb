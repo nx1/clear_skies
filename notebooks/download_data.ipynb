{
 "cells": [
  {
   "cell_type": "code",
   "execution_count": 2,
   "id": "737c46ee-ec65-450f-8805-fc5cfad14b91",
   "metadata": {},
   "outputs": [],
   "source": [
    "import os\n",
    "import requests\n",
    "\n",
    "from tqdm import tqdm"
   ]
  },
  {
   "cell_type": "code",
   "execution_count": 3,
   "id": "ed9a139b-4a66-4e7e-913b-b7363934dd8a",
   "metadata": {},
   "outputs": [],
   "source": [
    "def download_data(url, save_dir=\"../data\"):\n",
    "    os.makedirs(save_dir, exist_ok=True)\n",
    "    filename = os.path.basename(url)\n",
    "    save_path = os.path.join(save_dir, filename)\n",
    "\n",
    "    if os.path.exists(save_path):\n",
    "        print(f\"Data file '{filename}' already exists. Skipping download.\")\n",
    "        return save_path\n",
    "\n",
    "    response = requests.get(url, stream=True)\n",
    "    total_size = int(response.headers.get('content-length', 0))\n",
    "    block_size = 1024  # 1 KB\n",
    "\n",
    "    with open(save_path, 'wb') as f, tqdm(total=total_size, unit='B', unit_scale=True, unit_divisor=1024) as progress_bar:\n",
    "        for data in response.iter_content(block_size):\n",
    "            progress_bar.update(len(data))\n",
    "            f.write(data)"
   ]
  },
  {
   "cell_type": "code",
   "execution_count": 4,
   "id": "7cce5b2b-0b1d-4ab2-9387-b4d4db825321",
   "metadata": {},
   "outputs": [
    {
     "name": "stdout",
     "output_type": "stream",
     "text": [
      "Data file '2022-01-01-230802132242.csv' already exists. Skipping download.\n",
      "Data file '2022-01-01-230802122803.csv' already exists. Skipping download.\n"
     ]
    }
   ],
   "source": [
    "southampton_data = 'https://www.airqualityengland.co.uk/assets/downloads/2022-01-01-230802132242.csv'\n",
    "tower_hamlets_data = 'https://www.airqualityengland.co.uk/assets/downloads/2022-01-01-230802122803.csv'\n",
    "downloaded_file_path = download_data(southampton_data)\n",
    "downloaded_file_path = download_data(tower_hamlets_data)"
   ]
  },
  {
   "cell_type": "code",
   "execution_count": null,
   "id": "22533512-c8ab-4d2a-a4d8-5e214e5e6ac0",
   "metadata": {},
   "outputs": [],
   "source": []
  }
 ],
 "metadata": {
  "kernelspec": {
   "display_name": "Python 3 (ipykernel)",
   "language": "python",
   "name": "python3"
  },
  "language_info": {
   "codemirror_mode": {
    "name": "ipython",
    "version": 3
   },
   "file_extension": ".py",
   "mimetype": "text/x-python",
   "name": "python",
   "nbconvert_exporter": "python",
   "pygments_lexer": "ipython3",
   "version": "3.10.4"
  }
 },
 "nbformat": 4,
 "nbformat_minor": 5
}
